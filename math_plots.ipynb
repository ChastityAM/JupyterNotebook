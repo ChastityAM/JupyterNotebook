{
 "cells": [
  {
   "cell_type": "code",
   "execution_count": null,
   "metadata": {},
   "outputs": [],
   "source": [
    "# Create 2 Dataframes\n",
    "# Indexes numbers -10 to 10, with sin(x), cos(x), and tan(x) as columns\n",
    "# Indexes numbers 0 to 10 with e^x and ln(x) as columns (fill 0 for 0)\n",
    "# Indexes should be integers"
   ]
  },
  {
   "cell_type": "code",
   "execution_count": 168,
   "metadata": {},
   "outputs": [],
   "source": [
    "import numpy as np\n",
    "import pandas as pd\n",
    "import matplotlib.pyplot as plt\n",
    "import os"
   ]
  },
  {
   "cell_type": "code",
   "execution_count": 169,
   "metadata": {},
   "outputs": [
    {
     "data": {
      "text/plain": [
       "'./charts'"
      ]
     },
     "execution_count": 169,
     "metadata": {},
     "output_type": "execute_result"
    }
   ],
   "source": [
    "save_folder = os.path.join(\"./\",\"charts\")\n",
    "save_folder"
   ]
  },
  {
   "cell_type": "code",
   "execution_count": 78,
   "metadata": {},
   "outputs": [],
   "source": [
    "trig_index = np.arange(-5,6,.1)"
   ]
  },
  {
   "cell_type": "code",
   "execution_count": 146,
   "metadata": {},
   "outputs": [],
   "source": [
    "exp_index = np.arange(0, 100, .1)"
   ]
  },
  {
   "cell_type": "code",
   "execution_count": 138,
   "metadata": {},
   "outputs": [],
   "source": [
    "sin_arr = np.sin(trig_index)\n",
    "cos_arr = np.cos(trig_index)\n",
    "tan_arr = np.tan(trig_index)"
   ]
  },
  {
   "cell_type": "code",
   "execution_count": 170,
   "metadata": {},
   "outputs": [],
   "source": [
    "ex_arr = np.exp(exp_index)\n",
    "# ln_arr = [math.log(x) if x > 0 else 0 for x in exp_index ]\n",
    "ln_arr = np.concatenate((np.array([0]), np.log(exp_index[1::])))"
   ]
  },
  {
   "cell_type": "code",
   "execution_count": 120,
   "metadata": {},
   "outputs": [
    {
     "data": {
      "text/html": [
       "<div>\n",
       "<style scoped>\n",
       "    .dataframe tbody tr th:only-of-type {\n",
       "        vertical-align: middle;\n",
       "    }\n",
       "\n",
       "    .dataframe tbody tr th {\n",
       "        vertical-align: top;\n",
       "    }\n",
       "\n",
       "    .dataframe thead th {\n",
       "        text-align: right;\n",
       "    }\n",
       "</style>\n",
       "<table border=\"1\" class=\"dataframe\">\n",
       "  <thead>\n",
       "    <tr style=\"text-align: right;\">\n",
       "      <th></th>\n",
       "      <th>sin(x)</th>\n",
       "      <th>cos(x)</th>\n",
       "      <th>tan(x)</th>\n",
       "    </tr>\n",
       "    <tr>\n",
       "      <th>x</th>\n",
       "      <th></th>\n",
       "      <th></th>\n",
       "      <th></th>\n",
       "    </tr>\n",
       "  </thead>\n",
       "  <tbody>\n",
       "    <tr>\n",
       "      <th>-5.0</th>\n",
       "      <td>0.958924</td>\n",
       "      <td>0.283662</td>\n",
       "      <td>3.380515</td>\n",
       "    </tr>\n",
       "    <tr>\n",
       "      <th>-4.9</th>\n",
       "      <td>0.982453</td>\n",
       "      <td>0.186512</td>\n",
       "      <td>5.267493</td>\n",
       "    </tr>\n",
       "    <tr>\n",
       "      <th>-4.8</th>\n",
       "      <td>0.996165</td>\n",
       "      <td>0.087499</td>\n",
       "      <td>11.384871</td>\n",
       "    </tr>\n",
       "    <tr>\n",
       "      <th>-4.7</th>\n",
       "      <td>0.999923</td>\n",
       "      <td>-0.012389</td>\n",
       "      <td>-80.712763</td>\n",
       "    </tr>\n",
       "    <tr>\n",
       "      <th>-4.6</th>\n",
       "      <td>0.993691</td>\n",
       "      <td>-0.112153</td>\n",
       "      <td>-8.860175</td>\n",
       "    </tr>\n",
       "  </tbody>\n",
       "</table>\n",
       "</div>"
      ],
      "text/plain": [
       "        sin(x)    cos(x)     tan(x)\n",
       "x                                  \n",
       "-5.0  0.958924  0.283662   3.380515\n",
       "-4.9  0.982453  0.186512   5.267493\n",
       "-4.8  0.996165  0.087499  11.384871\n",
       "-4.7  0.999923 -0.012389 -80.712763\n",
       "-4.6  0.993691 -0.112153  -8.860175"
      ]
     },
     "execution_count": 120,
     "metadata": {},
     "output_type": "execute_result"
    }
   ],
   "source": [
    "trig_dictionary = {\n",
    "    \"sin(x)\": sin_arr,\n",
    "    \"cos(x)\": cos_arr,\n",
    "    \"tan(x)\": tan_arr\n",
    "}\n",
    "trig_df = pd.DataFrame(trig_dictionary, index=trig_index)\n",
    "trig_df.index.name = \"x\"\n",
    "trig_df.head()"
   ]
  },
  {
   "cell_type": "code",
   "execution_count": 148,
   "metadata": {},
   "outputs": [],
   "source": [
    "exp_dictionary = {\n",
    "    \"x\": exp_index,\n",
    "    \"e^x\": ex_arr,\n",
    "    \"ln(x)\": ln_arr\n",
    "}\n",
    "exp_df = pd.DataFrame(exp_dictionary)"
   ]
  },
  {
   "cell_type": "code",
   "execution_count": 149,
   "metadata": {},
   "outputs": [
    {
     "data": {
      "text/html": [
       "<div>\n",
       "<style scoped>\n",
       "    .dataframe tbody tr th:only-of-type {\n",
       "        vertical-align: middle;\n",
       "    }\n",
       "\n",
       "    .dataframe tbody tr th {\n",
       "        vertical-align: top;\n",
       "    }\n",
       "\n",
       "    .dataframe thead th {\n",
       "        text-align: right;\n",
       "    }\n",
       "</style>\n",
       "<table border=\"1\" class=\"dataframe\">\n",
       "  <thead>\n",
       "    <tr style=\"text-align: right;\">\n",
       "      <th></th>\n",
       "      <th>e^x</th>\n",
       "      <th>ln(x)</th>\n",
       "    </tr>\n",
       "    <tr>\n",
       "      <th>x</th>\n",
       "      <th></th>\n",
       "      <th></th>\n",
       "    </tr>\n",
       "  </thead>\n",
       "  <tbody>\n",
       "    <tr>\n",
       "      <th>0.0</th>\n",
       "      <td>1.000000</td>\n",
       "      <td>0.000000</td>\n",
       "    </tr>\n",
       "    <tr>\n",
       "      <th>0.1</th>\n",
       "      <td>1.105171</td>\n",
       "      <td>-2.302585</td>\n",
       "    </tr>\n",
       "    <tr>\n",
       "      <th>0.2</th>\n",
       "      <td>1.221403</td>\n",
       "      <td>-1.609438</td>\n",
       "    </tr>\n",
       "    <tr>\n",
       "      <th>0.3</th>\n",
       "      <td>1.349859</td>\n",
       "      <td>-1.203973</td>\n",
       "    </tr>\n",
       "    <tr>\n",
       "      <th>0.4</th>\n",
       "      <td>1.491825</td>\n",
       "      <td>-0.916291</td>\n",
       "    </tr>\n",
       "  </tbody>\n",
       "</table>\n",
       "</div>"
      ],
      "text/plain": [
       "          e^x     ln(x)\n",
       "x                      \n",
       "0.0  1.000000  0.000000\n",
       "0.1  1.105171 -2.302585\n",
       "0.2  1.221403 -1.609438\n",
       "0.3  1.349859 -1.203973\n",
       "0.4  1.491825 -0.916291"
      ]
     },
     "execution_count": 149,
     "metadata": {},
     "output_type": "execute_result"
    }
   ],
   "source": [
    "exp_df = exp_df.set_index(\"x\")\n",
    "exp_df.head()"
   ]
  },
  {
   "cell_type": "markdown",
   "metadata": {},
   "source": [
    "temp = [61,63,54,68,73,62,56,50]\n",
    "1) Chart the temperatures over the week\n",
    "2) Set a legend, label the axis, name the chart\n",
    "3) Save the chart\n",
    "4) Also chart the temp in Celsius"
   ]
  },
  {
   "cell_type": "code",
   "execution_count": 189,
   "metadata": {},
   "outputs": [
    {
     "data": {
      "image/png": "[encoded data removed]",
      "text/plain": [
       "<Figure size 432x288 with 1 Axes>"
      ]
     },
     "metadata": {
      "needs_background": "light"
     },
     "output_type": "display_data"
    }
   ],
   "source": [
    "plt.plot(trig_df.index, trig_df[\"sin(x)\"], color=\"purple\", label=\"Sine\", marker=\"o\", linewidth=0)\n",
    "plt.plot(trig_df.index, trig_df[\"cos(x)\"], color=\"green\", label=\"Cosine\", marker=\"*\", linewidth=0)\n",
    "\n",
    "plt.axis([-5.1,5.1,-1.1,1.1])\n",
    "plt.hlines(0,-5,10, alpha=.75, color=\"black\")\n",
    "plt.vlines(0, -1,10, alpha=.75, color=\"black\")\n",
    "plt.grid()\n",
    "\n",
    "plt.legend(loc=\"best\")\n",
    "plt.title(\"Trigonometric Functions\")\n",
    "plt.xlabel(\"X Value\")\n",
    "plt.ylabel(\"Y Value\")\n",
    "\n",
    "plt.savefig(save_folder + \"/trig_chart.png\")\n",
    "plt.show()"
   ]
  },
  {
   "cell_type": "code",
   "execution_count": 124,
   "metadata": {},
   "outputs": [
    {
     "data": {
      "image/png": "[encoded data removed]",
      "text/plain": [
       "<Figure size 432x288 with 1 Axes>"
      ]
     },
     "metadata": {
      "needs_background": "light"
     },
     "output_type": "display_data"
    }
   ],
   "source": [
    "plt.plot(trig_df.index, trig_df[\"tan(x)\"])\n",
    "plt.axis([-5.1,5.1,-1.1,1.1])\n",
    "plt.show()"
   ]
  },
  {
   "cell_type": "code",
   "execution_count": 152,
   "metadata": {},
   "outputs": [
    {
     "data": {
      "image/png": "[encoded data removed]",
      "text/plain": [
       "<Figure size 432x288 with 1 Axes>"
      ]
     },
     "metadata": {
      "needs_background": "light"
     },
     "output_type": "display_data"
    }
   ],
   "source": [
    "plt.plot(exp_df.index, exp_df[\"ln(x)\"])\n",
    "plt.axis([-5,100,-1,10])\n",
    "plt.show()"
   ]
  },
  {
   "cell_type": "code",
   "execution_count": 153,
   "metadata": {},
   "outputs": [
    {
     "data": {
      "image/png": "[encoded data removed]",
      "text/plain": [
       "<Figure size 432x288 with 1 Axes>"
      ]
     },
     "metadata": {
      "needs_background": "light"
     },
     "output_type": "display_data"
    }
   ],
   "source": [
    "plt.plot(exp_df.index, exp_df[\"e^x\"])\n",
    "plt.show()"
   ]
  },
  {
   "cell_type": "markdown",
   "metadata": {},
   "source": [
    "temp = [61,63,54,68,73,62,56,50]\n",
    "1) Chart the temperatures over the week\n",
    "2) Set a legend, label the axis, name the chart\n",
    "3) Save the chart\n",
    "4) Also chart the temp in Celsius"
   ]
  },
  {
   "cell_type": "code",
   "execution_count": 211,
   "metadata": {},
   "outputs": [
    {
     "data": {
      "text/html": [
       "<div>\n",
       "<style scoped>\n",
       "    .dataframe tbody tr th:only-of-type {\n",
       "        vertical-align: middle;\n",
       "    }\n",
       "\n",
       "    .dataframe tbody tr th {\n",
       "        vertical-align: top;\n",
       "    }\n",
       "\n",
       "    .dataframe thead th {\n",
       "        text-align: right;\n",
       "    }\n",
       "</style>\n",
       "<table border=\"1\" class=\"dataframe\">\n",
       "  <thead>\n",
       "    <tr style=\"text-align: right;\">\n",
       "      <th></th>\n",
       "      <th>fahrenheit</th>\n",
       "      <th>celsius</th>\n",
       "    </tr>\n",
       "  </thead>\n",
       "  <tbody>\n",
       "    <tr>\n",
       "      <th>Mon</th>\n",
       "      <td>61</td>\n",
       "      <td>16</td>\n",
       "    </tr>\n",
       "    <tr>\n",
       "      <th>Tues</th>\n",
       "      <td>63</td>\n",
       "      <td>17</td>\n",
       "    </tr>\n",
       "    <tr>\n",
       "      <th>Wed</th>\n",
       "      <td>54</td>\n",
       "      <td>12</td>\n",
       "    </tr>\n",
       "    <tr>\n",
       "      <th>Thurs</th>\n",
       "      <td>68</td>\n",
       "      <td>20</td>\n",
       "    </tr>\n",
       "    <tr>\n",
       "      <th>Fri</th>\n",
       "      <td>73</td>\n",
       "      <td>23</td>\n",
       "    </tr>\n",
       "    <tr>\n",
       "      <th>Sat</th>\n",
       "      <td>62</td>\n",
       "      <td>17</td>\n",
       "    </tr>\n",
       "    <tr>\n",
       "      <th>Sun</th>\n",
       "      <td>56</td>\n",
       "      <td>13</td>\n",
       "    </tr>\n",
       "    <tr>\n",
       "      <th>Next Mon</th>\n",
       "      <td>50</td>\n",
       "      <td>10</td>\n",
       "    </tr>\n",
       "  </tbody>\n",
       "</table>\n",
       "</div>"
      ],
      "text/plain": [
       "          fahrenheit  celsius\n",
       "Mon               61       16\n",
       "Tues              63       17\n",
       "Wed               54       12\n",
       "Thurs             68       20\n",
       "Fri               73       23\n",
       "Sat               62       17\n",
       "Sun               56       13\n",
       "Next Mon          50       10"
      ]
     },
     "execution_count": 211,
     "metadata": {},
     "output_type": "execute_result"
    }
   ],
   "source": [
    "temps = [61,63,54,68,73,62,56,50]\n",
    "temp_dictionary = {\n",
    "    \"fahrenheit\": temps\n",
    "}\n",
    "temp_df = pd.DataFrame(temp_dictionary, index = [\"Mon\",\"Tues\",\"Wed\",\"Thurs\",\"Fri\",\"Sat\",\"Sun\",\"Next Mon\"])\n",
    "temp_df[\"celsius\"] = temp_df[\"fahrenheit\"].map(lambda x: round((x - 32) * 5/9))\n",
    "temp_df"
   ]
  },
  {
   "cell_type": "code",
   "execution_count": 212,
   "metadata": {},
   "outputs": [
    {
     "data": {
      "image/png": "[encoded data removed]",
      "text/plain": [
       "<Figure size 432x288 with 1 Axes>"
      ]
     },
     "metadata": {
      "needs_background": "light"
     },
     "output_type": "display_data"
    }
   ],
   "source": [
    "plt.plot(temp_df.index,temp_df[\"fahrenheit\"], label=\"Fahrenheit\")\n",
    "plt.plot(temp_df.index,temp_df[\"celsius\"], label=\"Celsius\")\n",
    "\n",
    "plt.legend()\n",
    "plt.title(\"Temperature in New Jersey\")\n",
    "plt.xlabel(\"Day of the week\")\n",
    "plt.ylabel(\"Degrees\")\n",
    "plt.grid()\n",
    "\n",
    "plt.savefig(save_folder + \"/temp_chart.png\")\n",
    "plt.show()"
   ]
  },
  {
   "cell_type": "code",
   "execution_count": 241,
   "metadata": {},
   "outputs": [
    {
     "data": {
      "image/png": "[encoded data removed]",
      "text/plain": [
       "<Figure size 432x288 with 1 Axes>"
      ]
     },
     "metadata": {
      "needs_background": "light"
     },
     "output_type": "display_data"
    }
   ],
   "source": [
    "departments = [\"Sales\",\"Marketing\",\"Development\",\"Research\",\"Management\"]\n",
    "budget = [1000, 1500, 900, 500, 1100]\n",
    "colors = [\"red\" if amount > 1000 else \"black\" for amount in budget ]\n",
    "plt.bar(departments, budget, color=colors, edgecolor=\"blue\")\n",
    "plt.xlabel(\"Department\")\n",
    "plt.ylabel(\"Budget\")\n",
    "plt.title(\"Department Budgets\")\n",
    "plt.axhline(y=1000, color=\"black\")\n",
    "plt.show()"
   ]
  },
  {
   "cell_type": "code",
   "execution_count": 248,
   "metadata": {},
   "outputs": [
    {
     "data": {
      "image/png": "[encoded data removed]",
      "text/plain": [
       "<Figure size 432x288 with 1 Axes>"
      ]
     },
     "metadata": {},
     "output_type": "display_data"
    }
   ],
   "source": [
    "plt.pie(budget, labels=departments, colors=[\"red\",\"blue\",\"yellow\", \"green\",\"black\"],startangle=100)\n",
    "plt.show()"
   ]
  },
  {
   "cell_type": "code",
   "execution_count": 249,
   "metadata": {},
   "outputs": [
    {
     "data": {
      "text/plain": [
       "[61, 63, 54, 68, 73, 62, 56, 50]"
      ]
     },
     "execution_count": 249,
     "metadata": {},
     "output_type": "execute_result"
    }
   ],
   "source": [
    "temps"
   ]
  },
  {
   "cell_type": "code",
   "execution_count": 251,
   "metadata": {},
   "outputs": [
    {
     "data": {
      "image/png": "[encoded data removed]",
      "text/plain": [
       "<Figure size 432x288 with 1 Axes>"
      ]
     },
     "metadata": {
      "needs_background": "light"
     },
     "output_type": "display_data"
    }
   ],
   "source": [
    "hot_choclate = [100,90,102, 87,103, 93, 97,102]\n",
    "plt.scatter(temps, hot_choclate)\n",
    "plt.title(\"Hot Choclate vs Temp\")\n",
    "plt.xlabel(\"Temperature\")\n",
    "plt.ylabel(\"Hot Choclate Sales\")\n",
    "plt.show()"
   ]
  },
  {
   "cell_type": "code",
   "execution_count": null,
   "metadata": {},
   "outputs": [],
   "source": []
  }
 ],
 "metadata": {
  "kernelspec": {
   "display_name": "Python 3",
   "language": "python",
   "name": "python3"
  },
  "language_info": {
   "codemirror_mode": {
    "name": "ipython",
    "version": 3
   },
   "file_extension": ".py",
   "mimetype": "text/x-python",
   "name": "python",
   "nbconvert_exporter": "python",
   "pygments_lexer": "ipython3",
   "version": "3.8.5"
  }
 },
 "nbformat": 4,
 "nbformat_minor": 4
}
