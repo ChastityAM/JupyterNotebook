{
 "cells": [
  {
   "cell_type": "code",
   "execution_count": 2,
   "metadata": {},
   "outputs": [],
   "source": [
    "import pandas as pd"
   ]
  },
  {
   "cell_type": "code",
   "execution_count": 22,
   "metadata": {},
   "outputs": [
    {
     "data": {
      "text/html": [
       "<div>\n",
       "<style scoped>\n",
       "    .dataframe tbody tr th:only-of-type {\n",
       "        vertical-align: middle;\n",
       "    }\n",
       "\n",
       "    .dataframe tbody tr th {\n",
       "        vertical-align: top;\n",
       "    }\n",
       "\n",
       "    .dataframe thead th {\n",
       "        text-align: right;\n",
       "    }\n",
       "</style>\n",
       "<table border=\"1\" class=\"dataframe\">\n",
       "  <thead>\n",
       "    <tr style=\"text-align: right;\">\n",
       "      <th></th>\n",
       "      <th>vehicleid</th>\n",
       "      <th>make</th>\n",
       "      <th>model</th>\n",
       "      <th>year</th>\n",
       "      <th>price</th>\n",
       "      <th>miles</th>\n",
       "      <th>resale</th>\n",
       "    </tr>\n",
       "  </thead>\n",
       "  <tbody>\n",
       "    <tr>\n",
       "      <th>0</th>\n",
       "      <td>a</td>\n",
       "      <td>Audi</td>\n",
       "      <td>A8</td>\n",
       "      <td>2007</td>\n",
       "      <td>85200.0</td>\n",
       "      <td>120000</td>\n",
       "      <td>NaN</td>\n",
       "    </tr>\n",
       "    <tr>\n",
       "      <th>1</th>\n",
       "      <td>b</td>\n",
       "      <td>Honda</td>\n",
       "      <td>Civic</td>\n",
       "      <td>2001</td>\n",
       "      <td>NaN</td>\n",
       "      <td>85000</td>\n",
       "      <td>6000.0</td>\n",
       "    </tr>\n",
       "    <tr>\n",
       "      <th>2</th>\n",
       "      <td>e</td>\n",
       "      <td>Honda</td>\n",
       "      <td>Fit</td>\n",
       "      <td>2001</td>\n",
       "      <td>25200.0</td>\n",
       "      <td>85000</td>\n",
       "      <td>6000.0</td>\n",
       "    </tr>\n",
       "    <tr>\n",
       "      <th>3</th>\n",
       "      <td>c</td>\n",
       "      <td>Infinity</td>\n",
       "      <td>q50</td>\n",
       "      <td>2017</td>\n",
       "      <td>22000.0</td>\n",
       "      <td>25000</td>\n",
       "      <td>15000.0</td>\n",
       "    </tr>\n",
       "    <tr>\n",
       "      <th>4</th>\n",
       "      <td>d</td>\n",
       "      <td>Tesla</td>\n",
       "      <td>x</td>\n",
       "      <td>2021</td>\n",
       "      <td>114000.0</td>\n",
       "      <td>2000</td>\n",
       "      <td>NaN</td>\n",
       "    </tr>\n",
       "  </tbody>\n",
       "</table>\n",
       "</div>"
      ],
      "text/plain": [
       "  vehicleid      make  model  year     price   miles   resale\n",
       "0         a      Audi     A8  2007   85200.0  120000      NaN\n",
       "1         b     Honda  Civic  2001       NaN   85000   6000.0\n",
       "2         e     Honda    Fit  2001   25200.0   85000   6000.0\n",
       "3         c  Infinity    q50  2017   22000.0   25000  15000.0\n",
       "4         d     Tesla      x  2021  114000.0    2000      NaN"
      ]
     },
     "execution_count": 22,
     "metadata": {},
     "output_type": "execute_result"
    }
   ],
   "source": [
    "cars2 = [\n",
    "    {\n",
    "        \"vehicleid\" : \"a\",\n",
    "        \"make\" : \"Audi\",\n",
    "        \"model\" : \"A8\",\n",
    "        \"year\" : 2007,\n",
    "        \"price\" : 85200,\n",
    "        \"miles\" : 120000,\n",
    "    },\n",
    "     {\n",
    "        \"vehicleid\" : \"b\",\n",
    "        \"make\" : \"Honda\",\n",
    "        \"model\" : \"Civic\",\n",
    "        \"year\" : 2001,\n",
    "        \"miles\" : 85000,\n",
    "        \"resale\" : 6000,\n",
    "    },\n",
    "     {\n",
    "        \"vehicleid\" : \"e\",\n",
    "        \"make\" : \"Honda\",\n",
    "        \"model\" : \"Fit\",\n",
    "        \"year\" : 2001,\n",
    "        \"price\" : 25200,\n",
    "        \"miles\" : 85000,\n",
    "        \"resale\" : 6000,\n",
    "    },\n",
    "     {\n",
    "        \"vehicleid\" : \"c\",\n",
    "        \"make\" : \"Infinity\",\n",
    "        \"model\" : \"q50\",\n",
    "        \"year\":2017 ,\n",
    "        \"price\": 22000,\n",
    "        \"miles\" : 25000,\n",
    "         \"resale\": 15000,\n",
    "    },\n",
    "     {\n",
    "        \"vehicleid\": \"d\",\n",
    "        \"make\": \"Tesla\" ,\n",
    "        \"model\" : \"x\",\n",
    "        \"year\": 2021,\n",
    "        \"price\": 114000 ,\n",
    "        \"miles\" : 2000 ,\n",
    "    },\n",
    "]\n",
    "df = pd.DataFrame(cars2)\n",
    "df"
   ]
  },
  {
   "cell_type": "code",
   "execution_count": 9,
   "metadata": {},
   "outputs": [
    {
     "data": {
      "text/html": [
       "<div>\n",
       "<style scoped>\n",
       "    .dataframe tbody tr th:only-of-type {\n",
       "        vertical-align: middle;\n",
       "    }\n",
       "\n",
       "    .dataframe tbody tr th {\n",
       "        vertical-align: top;\n",
       "    }\n",
       "\n",
       "    .dataframe thead th {\n",
       "        text-align: right;\n",
       "    }\n",
       "</style>\n",
       "<table border=\"1\" class=\"dataframe\">\n",
       "  <thead>\n",
       "    <tr style=\"text-align: right;\">\n",
       "      <th></th>\n",
       "      <th>make</th>\n",
       "      <th>model</th>\n",
       "      <th>year</th>\n",
       "      <th>price</th>\n",
       "      <th>miles</th>\n",
       "    </tr>\n",
       "    <tr>\n",
       "      <th>vehicleid</th>\n",
       "      <th></th>\n",
       "      <th></th>\n",
       "      <th></th>\n",
       "      <th></th>\n",
       "      <th></th>\n",
       "    </tr>\n",
       "  </thead>\n",
       "  <tbody>\n",
       "    <tr>\n",
       "      <th>a</th>\n",
       "      <td>Audi</td>\n",
       "      <td>A8</td>\n",
       "      <td>2007</td>\n",
       "      <td>85200</td>\n",
       "      <td>120000</td>\n",
       "    </tr>\n",
       "    <tr>\n",
       "      <th>b</th>\n",
       "      <td>Honda</td>\n",
       "      <td>Civic</td>\n",
       "      <td>2001</td>\n",
       "      <td>16000</td>\n",
       "      <td>85000</td>\n",
       "    </tr>\n",
       "    <tr>\n",
       "      <th>c</th>\n",
       "      <td>Infinity</td>\n",
       "      <td>q50</td>\n",
       "      <td>2017</td>\n",
       "      <td>22000</td>\n",
       "      <td>25000</td>\n",
       "    </tr>\n",
       "    <tr>\n",
       "      <th>d</th>\n",
       "      <td>Tesla</td>\n",
       "      <td>x</td>\n",
       "      <td>2021</td>\n",
       "      <td>114000</td>\n",
       "      <td>2000</td>\n",
       "    </tr>\n",
       "  </tbody>\n",
       "</table>\n",
       "</div>"
      ],
      "text/plain": [
       "               make  model  year   price   miles\n",
       "vehicleid                                       \n",
       "a              Audi     A8  2007   85200  120000\n",
       "b             Honda  Civic  2001   16000   85000\n",
       "c          Infinity    q50  2017   22000   25000\n",
       "d             Tesla      x  2021  114000    2000"
      ]
     },
     "execution_count": 9,
     "metadata": {},
     "output_type": "execute_result"
    }
   ],
   "source": [
    "df = df.set_index(\"vehicleid\")\n",
    "df"
   ]
  },
  {
   "cell_type": "code",
   "execution_count": 10,
   "metadata": {},
   "outputs": [
    {
     "data": {
      "text/plain": [
       "make     Honda\n",
       "model    Civic\n",
       "year      2001\n",
       "price    16000\n",
       "miles    85000\n",
       "Name: b, dtype: object"
      ]
     },
     "execution_count": 10,
     "metadata": {},
     "output_type": "execute_result"
    }
   ],
   "source": [
    "civic = df.loc[\"b\"]\n",
    "civic"
   ]
  },
  {
   "cell_type": "code",
   "execution_count": 8,
   "metadata": {},
   "outputs": [
    {
     "data": {
      "text/plain": [
       "vehicleid        b\n",
       "make         Honda\n",
       "model        Civic\n",
       "year          2001\n",
       "price        16000\n",
       "miles        85000\n",
       "Name: 1, dtype: object"
      ]
     },
     "execution_count": 8,
     "metadata": {},
     "output_type": "execute_result"
    }
   ],
   "source": [
    "first_car = df.iloc[1]\n",
    "first_car"
   ]
  },
  {
   "cell_type": "code",
   "execution_count": 11,
   "metadata": {},
   "outputs": [
    {
     "data": {
      "text/html": [
       "<div>\n",
       "<style scoped>\n",
       "    .dataframe tbody tr th:only-of-type {\n",
       "        vertical-align: middle;\n",
       "    }\n",
       "\n",
       "    .dataframe tbody tr th {\n",
       "        vertical-align: top;\n",
       "    }\n",
       "\n",
       "    .dataframe thead th {\n",
       "        text-align: right;\n",
       "    }\n",
       "</style>\n",
       "<table border=\"1\" class=\"dataframe\">\n",
       "  <thead>\n",
       "    <tr style=\"text-align: right;\">\n",
       "      <th></th>\n",
       "      <th>make</th>\n",
       "      <th>model</th>\n",
       "      <th>year</th>\n",
       "      <th>price</th>\n",
       "      <th>miles</th>\n",
       "    </tr>\n",
       "    <tr>\n",
       "      <th>vehicleid</th>\n",
       "      <th></th>\n",
       "      <th></th>\n",
       "      <th></th>\n",
       "      <th></th>\n",
       "      <th></th>\n",
       "    </tr>\n",
       "  </thead>\n",
       "  <tbody>\n",
       "    <tr>\n",
       "      <th>a</th>\n",
       "      <td>Audi</td>\n",
       "      <td>A8</td>\n",
       "      <td>2007</td>\n",
       "      <td>85200</td>\n",
       "      <td>120000</td>\n",
       "    </tr>\n",
       "    <tr>\n",
       "      <th>b</th>\n",
       "      <td>Honda</td>\n",
       "      <td>Civic</td>\n",
       "      <td>2001</td>\n",
       "      <td>16000</td>\n",
       "      <td>85000</td>\n",
       "    </tr>\n",
       "    <tr>\n",
       "      <th>c</th>\n",
       "      <td>Infinity</td>\n",
       "      <td>q50</td>\n",
       "      <td>2017</td>\n",
       "      <td>22000</td>\n",
       "      <td>25000</td>\n",
       "    </tr>\n",
       "    <tr>\n",
       "      <th>d</th>\n",
       "      <td>Tesla</td>\n",
       "      <td>x</td>\n",
       "      <td>2021</td>\n",
       "      <td>114000</td>\n",
       "      <td>2000</td>\n",
       "    </tr>\n",
       "  </tbody>\n",
       "</table>\n",
       "</div>"
      ],
      "text/plain": [
       "               make  model  year   price   miles\n",
       "vehicleid                                       \n",
       "a              Audi     A8  2007   85200  120000\n",
       "b             Honda  Civic  2001   16000   85000\n",
       "c          Infinity    q50  2017   22000   25000\n",
       "d             Tesla      x  2021  114000    2000"
      ]
     },
     "execution_count": 11,
     "metadata": {},
     "output_type": "execute_result"
    }
   ],
   "source": [
    "complete_df = df.dropna()\n",
    "complete_df"
   ]
  },
  {
   "cell_type": "code",
   "execution_count": 16,
   "metadata": {},
   "outputs": [
    {
     "data": {
      "text/html": [
       "<div>\n",
       "<style scoped>\n",
       "    .dataframe tbody tr th:only-of-type {\n",
       "        vertical-align: middle;\n",
       "    }\n",
       "\n",
       "    .dataframe tbody tr th {\n",
       "        vertical-align: top;\n",
       "    }\n",
       "\n",
       "    .dataframe thead th {\n",
       "        text-align: right;\n",
       "    }\n",
       "</style>\n",
       "<table border=\"1\" class=\"dataframe\">\n",
       "  <thead>\n",
       "    <tr style=\"text-align: right;\">\n",
       "      <th></th>\n",
       "      <th>vehicleid</th>\n",
       "      <th>make</th>\n",
       "      <th>model</th>\n",
       "      <th>year</th>\n",
       "      <th>price</th>\n",
       "      <th>miles</th>\n",
       "      <th>resale</th>\n",
       "    </tr>\n",
       "  </thead>\n",
       "  <tbody>\n",
       "    <tr>\n",
       "      <th>2</th>\n",
       "      <td>c</td>\n",
       "      <td>Infinity</td>\n",
       "      <td>q50</td>\n",
       "      <td>2017</td>\n",
       "      <td>22000.0</td>\n",
       "      <td>25000</td>\n",
       "      <td>15000.0</td>\n",
       "    </tr>\n",
       "  </tbody>\n",
       "</table>\n",
       "</div>"
      ],
      "text/plain": [
       "  vehicleid      make model  year    price  miles   resale\n",
       "2         c  Infinity   q50  2017  22000.0  25000  15000.0"
      ]
     },
     "execution_count": 16,
     "metadata": {},
     "output_type": "execute_result"
    }
   ],
   "source": [
    "completed_df = df.dropna(subset = [\"resale\",\"price\"])\n",
    "completed_df"
   ]
  },
  {
   "cell_type": "code",
   "execution_count": 17,
   "metadata": {},
   "outputs": [
    {
     "data": {
      "text/html": [
       "<div>\n",
       "<style scoped>\n",
       "    .dataframe tbody tr th:only-of-type {\n",
       "        vertical-align: middle;\n",
       "    }\n",
       "\n",
       "    .dataframe tbody tr th {\n",
       "        vertical-align: top;\n",
       "    }\n",
       "\n",
       "    .dataframe thead th {\n",
       "        text-align: right;\n",
       "    }\n",
       "</style>\n",
       "<table border=\"1\" class=\"dataframe\">\n",
       "  <thead>\n",
       "    <tr style=\"text-align: right;\">\n",
       "      <th></th>\n",
       "      <th>year</th>\n",
       "      <th>price</th>\n",
       "      <th>miles</th>\n",
       "      <th>resale</th>\n",
       "    </tr>\n",
       "  </thead>\n",
       "  <tbody>\n",
       "    <tr>\n",
       "      <th>count</th>\n",
       "      <td>4.000000</td>\n",
       "      <td>3.000000</td>\n",
       "      <td>4.000000</td>\n",
       "      <td>2.000000</td>\n",
       "    </tr>\n",
       "    <tr>\n",
       "      <th>mean</th>\n",
       "      <td>2011.500000</td>\n",
       "      <td>73733.333333</td>\n",
       "      <td>58000.000000</td>\n",
       "      <td>10500.000000</td>\n",
       "    </tr>\n",
       "    <tr>\n",
       "      <th>std</th>\n",
       "      <td>9.146948</td>\n",
       "      <td>47059.678424</td>\n",
       "      <td>54154.101107</td>\n",
       "      <td>6363.961031</td>\n",
       "    </tr>\n",
       "    <tr>\n",
       "      <th>min</th>\n",
       "      <td>2001.000000</td>\n",
       "      <td>22000.000000</td>\n",
       "      <td>2000.000000</td>\n",
       "      <td>6000.000000</td>\n",
       "    </tr>\n",
       "    <tr>\n",
       "      <th>25%</th>\n",
       "      <td>2005.500000</td>\n",
       "      <td>53600.000000</td>\n",
       "      <td>19250.000000</td>\n",
       "      <td>8250.000000</td>\n",
       "    </tr>\n",
       "    <tr>\n",
       "      <th>50%</th>\n",
       "      <td>2012.000000</td>\n",
       "      <td>85200.000000</td>\n",
       "      <td>55000.000000</td>\n",
       "      <td>10500.000000</td>\n",
       "    </tr>\n",
       "    <tr>\n",
       "      <th>75%</th>\n",
       "      <td>2018.000000</td>\n",
       "      <td>99600.000000</td>\n",
       "      <td>93750.000000</td>\n",
       "      <td>12750.000000</td>\n",
       "    </tr>\n",
       "    <tr>\n",
       "      <th>max</th>\n",
       "      <td>2021.000000</td>\n",
       "      <td>114000.000000</td>\n",
       "      <td>120000.000000</td>\n",
       "      <td>15000.000000</td>\n",
       "    </tr>\n",
       "  </tbody>\n",
       "</table>\n",
       "</div>"
      ],
      "text/plain": [
       "              year          price          miles        resale\n",
       "count     4.000000       3.000000       4.000000      2.000000\n",
       "mean   2011.500000   73733.333333   58000.000000  10500.000000\n",
       "std       9.146948   47059.678424   54154.101107   6363.961031\n",
       "min    2001.000000   22000.000000    2000.000000   6000.000000\n",
       "25%    2005.500000   53600.000000   19250.000000   8250.000000\n",
       "50%    2012.000000   85200.000000   55000.000000  10500.000000\n",
       "75%    2018.000000   99600.000000   93750.000000  12750.000000\n",
       "max    2021.000000  114000.000000  120000.000000  15000.000000"
      ]
     },
     "execution_count": 17,
     "metadata": {},
     "output_type": "execute_result"
    }
   ],
   "source": [
    "df.describe()"
   ]
  },
  {
   "cell_type": "code",
   "execution_count": 18,
   "metadata": {},
   "outputs": [
    {
     "data": {
      "text/plain": [
       "114000.0"
      ]
     },
     "execution_count": 18,
     "metadata": {},
     "output_type": "execute_result"
    }
   ],
   "source": [
    "df[\"price\"].max()"
   ]
  },
  {
   "cell_type": "code",
   "execution_count": 19,
   "metadata": {},
   "outputs": [
    {
     "data": {
      "text/plain": [
       "73733.33333333333"
      ]
     },
     "execution_count": 19,
     "metadata": {},
     "output_type": "execute_result"
    }
   ],
   "source": [
    "df[\"price\"].mean()"
   ]
  },
  {
   "cell_type": "code",
   "execution_count": 20,
   "metadata": {},
   "outputs": [
    {
     "data": {
      "text/plain": [
       "221200.0"
      ]
     },
     "execution_count": 20,
     "metadata": {},
     "output_type": "execute_result"
    }
   ],
   "source": [
    "df[\"price\"].sum()"
   ]
  },
  {
   "cell_type": "code",
   "execution_count": 23,
   "metadata": {},
   "outputs": [
    {
     "data": {
      "text/plain": [
       "Honda       2\n",
       "Tesla       1\n",
       "Audi        1\n",
       "Infinity    1\n",
       "Name: make, dtype: int64"
      ]
     },
     "execution_count": 23,
     "metadata": {},
     "output_type": "execute_result"
    }
   ],
   "source": [
    "df[\"make\"].value_counts()"
   ]
  },
  {
   "cell_type": "code",
   "execution_count": 24,
   "metadata": {},
   "outputs": [
    {
     "data": {
      "text/plain": [
       "array(['Audi', 'Honda', 'Infinity', 'Tesla'], dtype=object)"
      ]
     },
     "execution_count": 24,
     "metadata": {},
     "output_type": "execute_result"
    }
   ],
   "source": [
    "df[\"make\"].unique()"
   ]
  },
  {
   "cell_type": "code",
   "execution_count": 25,
   "metadata": {},
   "outputs": [
    {
     "data": {
      "text/plain": [
       "Index(['vehicleid', 'make', 'model', 'year', 'price', 'miles', 'resale'], dtype='object')"
      ]
     },
     "execution_count": 25,
     "metadata": {},
     "output_type": "execute_result"
    }
   ],
   "source": [
    "df.columns"
   ]
  },
  {
   "cell_type": "code",
   "execution_count": 29,
   "metadata": {},
   "outputs": [
    {
     "data": {
      "text/html": [
       "<div>\n",
       "<style scoped>\n",
       "    .dataframe tbody tr th:only-of-type {\n",
       "        vertical-align: middle;\n",
       "    }\n",
       "\n",
       "    .dataframe tbody tr th {\n",
       "        vertical-align: top;\n",
       "    }\n",
       "\n",
       "    .dataframe thead th {\n",
       "        text-align: right;\n",
       "    }\n",
       "</style>\n",
       "<table border=\"1\" class=\"dataframe\">\n",
       "  <thead>\n",
       "    <tr style=\"text-align: right;\">\n",
       "      <th></th>\n",
       "      <th>Vehicle ID</th>\n",
       "      <th>Manufacturer</th>\n",
       "      <th>Model</th>\n",
       "    </tr>\n",
       "  </thead>\n",
       "  <tbody>\n",
       "    <tr>\n",
       "      <th>0</th>\n",
       "      <td>a</td>\n",
       "      <td>Audi</td>\n",
       "      <td>A8</td>\n",
       "    </tr>\n",
       "    <tr>\n",
       "      <th>1</th>\n",
       "      <td>b</td>\n",
       "      <td>Honda</td>\n",
       "      <td>Civic</td>\n",
       "    </tr>\n",
       "    <tr>\n",
       "      <th>2</th>\n",
       "      <td>e</td>\n",
       "      <td>Honda</td>\n",
       "      <td>Fit</td>\n",
       "    </tr>\n",
       "    <tr>\n",
       "      <th>3</th>\n",
       "      <td>c</td>\n",
       "      <td>Infinity</td>\n",
       "      <td>q50</td>\n",
       "    </tr>\n",
       "    <tr>\n",
       "      <th>4</th>\n",
       "      <td>d</td>\n",
       "      <td>Tesla</td>\n",
       "      <td>x</td>\n",
       "    </tr>\n",
       "  </tbody>\n",
       "</table>\n",
       "</div>"
      ],
      "text/plain": [
       "  Vehicle ID Manufacturer  Model\n",
       "0          a         Audi     A8\n",
       "1          b        Honda  Civic\n",
       "2          e        Honda    Fit\n",
       "3          c     Infinity    q50\n",
       "4          d        Tesla      x"
      ]
     },
     "execution_count": 29,
     "metadata": {},
     "output_type": "execute_result"
    }
   ],
   "source": [
    "make_model_df = df[[\"vehicleid\",\"make\", \"model\"]]\n",
    "make_model_df = make_model_df.rename(columns={\"make\":\"Manufacturer\",\"vehicleid\": \"Vehicle ID\", \"model\":\"Model\"})\n",
    "make_model_df.set_index(\"Vehicle ID\")\n",
    "make_model_df"
   ]
  },
  {
   "cell_type": "code",
   "execution_count": 30,
   "metadata": {},
   "outputs": [
    {
     "name": "stdout",
     "output_type": "stream",
     "text": [
      "<class 'pandas.core.frame.DataFrame'>\n",
      "RangeIndex: 5 entries, 0 to 4\n",
      "Data columns (total 7 columns):\n",
      " #   Column     Non-Null Count  Dtype  \n",
      "---  ------     --------------  -----  \n",
      " 0   vehicleid  5 non-null      object \n",
      " 1   make       5 non-null      object \n",
      " 2   model      5 non-null      object \n",
      " 3   year       5 non-null      int64  \n",
      " 4   price      4 non-null      float64\n",
      " 5   miles      5 non-null      int64  \n",
      " 6   resale     3 non-null      float64\n",
      "dtypes: float64(2), int64(2), object(3)\n",
      "memory usage: 408.0+ bytes\n"
     ]
    }
   ],
   "source": [
    "df.info()"
   ]
  },
  {
   "cell_type": "code",
   "execution_count": null,
   "metadata": {},
   "outputs": [],
   "source": []
  }
 ],
 "metadata": {
  "kernelspec": {
   "display_name": "Python 3",
   "language": "python",
   "name": "python3"
  },
  "language_info": {
   "codemirror_mode": {
    "name": "ipython",
    "version": 3
   },
   "file_extension": ".py",
   "mimetype": "text/x-python",
   "name": "python",
   "nbconvert_exporter": "python",
   "pygments_lexer": "ipython3",
   "version": "3.8.5"
  }
 },
 "nbformat": 4,
 "nbformat_minor": 4
}
